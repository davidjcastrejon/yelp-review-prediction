{
 "cells": [
  {
   "cell_type": "code",
   "execution_count": 10,
   "id": "0f34dfd6-71cb-40cd-bedc-5e43be43b57e",
   "metadata": {},
   "outputs": [
    {
     "name": "stdout",
     "output_type": "stream",
     "text": [
      "Length of unfiltered business data: 150346 lines\n",
      "Number of business id's in filtered business data: 61919 lines\n",
      "Length of filtered review data: 6114269 lines\n",
      "Processed /Users/davidcastrejon/Documents/CSC180/hw/yelp/yelp_dataset/yelp_academic_dataset_review.json\n",
      "Finished filtering for businesses with >= 20 reviews!\n"
     ]
    }
   ],
   "source": [
    "'''\n",
    "Students\n",
    "David Castrejon: davidcastrejon@csus.edu\n",
    "Blake Danz: blakedanz@csus.edu\n",
    "Malkylm Wright: malkylmwright@csus.edu\n",
    "\n",
    "Class\n",
    "CSC180 - Yelp Assignment\n",
    "'''\n",
    "\n",
    "import os\n",
    "import json\n",
    "\n",
    "# Define the path to the JSON file\n",
    "business_path = '/Users/davidcastrejon/Documents/CSC180/hw/yelp/yelp_dataset/yelp_academic_dataset_business.json'\n",
    "review_path = '/Users/davidcastrejon/Documents/CSC180/hw/yelp/yelp_dataset/yelp_academic_dataset_review.json'\n",
    "# checkin_path = '/Users/davidcastrejon/Documents/CSC180/hw/yelp/yelp_dataset/yelp_academic_dataset_checkin.json'\n",
    "# tip_path = '/Users/davidcastrejon/Documents/CSC180/hw/yelp/yelp_dataset/yelp_academic_dataset_tip.json'\n",
    "# user_path = '/Users/davidcastrejon/Documents/CSC180/hw/yelp/yelp_dataset/yelp_academic_dataset_user.json'\n",
    "\n",
    "paths = [review_path]\n",
    "\n",
    "# Open the file and read it line by line\n",
    "data = []\n",
    "with open(business_path, 'r') as f:\n",
    "    for line in f:\n",
    "        # Parse each JSON object and append it to the data list\n",
    "        entry = json.loads(line)\n",
    "        data.append(entry)\n",
    "print(f'Length of unfiltered business data: {len(data)} lines')\n",
    "\n",
    "# Define a function to filter entries with less than 20 total reviews\n",
    "def filter_reviews(entry):\n",
    "    return entry['review_count'] >= 20\n",
    "\n",
    "# Filter the entries\n",
    "filtered_data = list(filter(filter_reviews, data))\n",
    "\n",
    "# Specify the path for the new JSON file\n",
    "output_file = 'filtered_yelp_academic_dataset_business.json'\n",
    "\n",
    "# Save the new dataset to a JSON file\n",
    "with open(output_file, 'w') as f:\n",
    "    json.dump(filtered_data, f, indent=4)\n",
    "\n",
    "# Read the entire file and parse it as a JSON array\n",
    "with open(output_file, 'r') as f:\n",
    "    data = json.load(f)\n",
    "\n",
    "# Extract business IDs from the filtered data\n",
    "filtered_business_ids = [entry['business_id'] for entry in data]\n",
    "print(f'Number of business id\\'s in filtered business data: {len(data)} lines')\n",
    "\n",
    "# Define a function to filter entries based on business IDs\n",
    "def filter_entries(entry):\n",
    "    return entry['business_id'] in filtered_business_ids\n",
    "\n",
    "# Iterate through each path\n",
    "for path in paths:\n",
    "    # Define the output file name for the filtered data\n",
    "    output_file = f'filtered_{os.path.basename(path)[:-5]}.json'\n",
    "\n",
    "    # Open the file and read it line by line\n",
    "    filtered_data = []\n",
    "    with open(path, 'r') as f:\n",
    "        for line in f:\n",
    "            # Parse each JSON object and filter entries based on business IDs\n",
    "            entry = json.loads(line)\n",
    "            if filter_entries(entry):\n",
    "                filtered_data.append(entry)\n",
    "\n",
    "    # Save the filtered dataset to a JSON file\n",
    "    with open(output_file, 'w') as f:\n",
    "        json.dump(filtered_data, f, indent=4)\n",
    "    print(f'Length of filtered review data: {len(filtered_data)} lines')\n",
    "    print(f'Processed {path}')\n",
    "print('Finished filtering for businesses with >= 20 reviews!')"
   ]
  },
  {
   "cell_type": "code",
   "execution_count": 23,
   "id": "e949377d-0405-44e9-9692-37c88518e9d7",
   "metadata": {},
   "outputs": [
    {
     "name": "stdout",
     "output_type": "stream",
     "text": [
      "Loading data...\n",
      "Extracting text reviews and star ratings...\n",
      "Performing TF-IDF Vectorization...\n",
      "Finished TF-IDF Vectorization!\n"
     ]
    }
   ],
   "source": [
    "import json\n",
    "import numpy as np\n",
    "import matplotlib.pyplot as plt\n",
    "from sklearn.feature_extraction.text import TfidfVectorizer\n",
    "from sklearn.model_selection import train_test_split\n",
    "import tensorflow as tf\n",
    "from tensorflow.keras.models import Sequential\n",
    "from tensorflow.keras.layers import Dense, Dropout\n",
    "from tensorflow.keras.callbacks import EarlyStopping, ModelCheckpoint\n",
    "\n",
    "filtered_review_path = '/Users/davidcastrejon/Documents/CSC180/hw/yelp/filtered_yelp_academic_dataset_review.json'\n",
    "\n",
    "# Load data from the reviews JSON file\n",
    "print(\"Loading data...\")\n",
    "with open(filtered_review_path, 'r') as f:\n",
    "    reviews_data = json.load(f)\n",
    "    \n",
    "# Extract text reviews and star ratings\n",
    "print(\"Extracting text reviews and star ratings...\")\n",
    "texts = [review['text'] for review in reviews_data]\n",
    "stars = [review['stars'] for review in reviews_data]\n",
    "\n",
    "# TF-IDF Vectorization\n",
    "print(\"Performing TF-IDF Vectorization...\")\n",
    "vectorizer = TfidfVectorizer(min_df=0.008, max_df=0.1)  \n",
    "X = vectorizer.fit_transform(texts).toarray()\n",
    "print(\"Finished TF-IDF Vectorization!\")"
   ]
  },
  {
   "cell_type": "code",
   "execution_count": 24,
   "id": "6b8ea1e6-87fa-4a7b-90f4-e99634a26704",
   "metadata": {},
   "outputs": [
    {
     "data": {
      "image/png": "[encoded data removed]",
      "text/plain": [
       "<Figure size 640x480 with 1 Axes>"
      ]
     },
     "metadata": {},
     "output_type": "display_data"
    }
   ],
   "source": [
    "# Calculate document frequencies\n",
    "doc_freq = np.sum(X > 0, axis=0)\n",
    "\n",
    "# Plot histogram of document frequencies\n",
    "plt.hist(doc_freq, bins=50)\n",
    "plt.title('Document Frequencies')\n",
    "plt.xlabel('Document Frequency')\n",
    "plt.ylabel('Number of Terms')\n",
    "plt.show()"
   ]
  },
  {
   "cell_type": "code",
   "execution_count": 25,
   "id": "46f225c0-abff-41f4-a138-c3f61760210f",
   "metadata": {},
   "outputs": [
    {
     "name": "stdout",
     "output_type": "stream",
     "text": [
      "Nuber of features: 1025 \n",
      "\n",
      "Terms with high document frequency:\n",
      "['am', 'another', 'any', 'area', 'around', 'bar', 'before', 'being', 'better', 'both', 'cheese', 'chicken', 'day', 'dinner', 'down', 'drinks', 'eat', 'ever', 'every', 'everything', 'excellent', 'favorite', 'few', 'fresh', 'give', 'going', 'her', 'how', 'know', 'll', 'lunch', 'many', 'meal', 'minutes', 'most', 'new', 'next', 'night', 'now', 'off', 'pretty', 're', 'right', 'said', 'sauce', 'say', 'see', 'since', 'small', 'something', 'still', 'sure', 'table', 'take', 'then', 'think', 'times', 'took', 'two', 'wait', 'want', 'wasn', 'way', 'while', 'who']\n",
      "------------------------------------------------------------------------------------------------------------------------\n",
      "Terms with low document frequency:\n",
      "['00', '100', '11', '25', '40', '45', 'above', 'accommodating', 'addition', 'affordable', 'afternoon', 'ahead', 'air', 'alone', 'american', 'anyway', 'anywhere', 'apparently', 'appointment', 'appreciate', 'aren', 'asking', 'attention', 'attitude', 'avocado', 'avoid', 'awful', 'bag', 'baked', 'barbara', 'barely', 'bartenders', 'basically', 'bathroom', 'beach', 'beat', 'bed', 'beyond', 'black', 'blue', 'book', 'bottle', 'bottom', 'bought', 'box', 'boy', 'boyfriend', 'brisket', 'buffet', 'building', 'burrito', 'cafe', 'cannot', 'card', 'case', 'cash', 'casual', 'center', 'certainly', 'chain', 'chance', 'changed', 'charged', 'checked', 'checking', 'chili', 'chinese', 'chose', 'classic', 'clear', 'clearly', 'closed', 'cocktail', 'cocktails', 'combo', 'complaint', 'complete', 'considering', 'convenient', 'conversation', 'cook', 'corn', 'corner', 'covered', 'covid', 'cozy', 'craving', 'crazy', 'creamy', 'credit', 'crowd', 'crust', 'cup', 'curry', 'dark', 'daughter', 'delivered', 'delivery', 'desk', 'despite', 'desserts', 'die', 'difficult', 'dine', 'diner', 'dip', 'dirty', 'disappoint', 'disappointing', 'dog', 'double', 'downtown', 'dressing', 'easily', 'efficient', 'elsewhere', 'employee', 'empty', 'entree', 'entrees', 'environment', 'establishment', 'event', 'exactly', 'except', 'expectations', 'expecting', 'experiences', 'explained', 'fabulous', 'face', 'fair', 'fairly', 'fancy', 'favorites', 'feeling', 'filled', 'filling', 'finish', 'finished', 'fix', 'floor', 'folks', 'foods', 'forget', 'forgot', 'frozen', 'fruit', 'future', 'game', 'gem', 'general', 'generous', 'girl', 'goes', 'gotten', 'grab', 'greasy', 'greeted', 'guests', 'hair', 'happened', 'hate', 'head', 'healthy', 'hear', 'heat', 'helped', 'hold', 'homemade', 'honest', 'hostess', 'hungry', 'idea', 'included', 'incredibly', 'interesting', 'interior', 'issues', 'item', 'joint', 'juicy', 'known', 'knows', 'la', 'lack', 'lamb', 'leaving', 'lemon', 'lettuce', 'level', 'limited', 'lived', 'lobster', 'located', 'lol', 'longer', 'lost', 'loud', 'louis', 'lovely', 'low', 'mall', 'management', 'market', 'matter', 'mean', 'means', 'mediocre', 'medium', 'mention', 'mentioned', 'met', 'middle', 'milk', 'min', 'mine', 'miss', 'missing', 'mix', 'mixed', 'mom', 'month', 'mostly', 'mouth', 'move', 'moving', 'multiple', 'nail', 'nails', 'nearby', 'negative', 'nicely', 'nights', 'nola', 'non', 'none', 'noodles', 'normal', 'normally', 'notch', 'note', 'noticed', 'number', 'obviously', 'office', 'oil', 'ones', 'onion', 'onions', 'online', 'opinion', 'original', 'otherwise', 'overpriced', 'owners', 'oysters', 'pancakes', 'park', 'pass', 'paying', 'pepper', 'per', 'perfection', 'personal', 'phenomenal', 'philadelphia', 'picked', 'pie', 'piece', 'pieces', 'placed', 'plan', 'plates', 'platter', 'play', 'playing', 'pleased', 'pm', 'polite', 'pool', 'possible', 'prefer', 'pricey', 'process', 'provided', 'pulled', 'purchase', 'questions', 'quiet', 'rare', 'rating', 'read', 'reading', 'reasonably', 'reno', 'reservations', 'returning', 'ribs', 'rich', 'roasted', 'rooms', 'running', 'sad', 'salads', 'salmon', 'salon', 'salsa', 'salt', 'salty', 'santa', 'satisfied', 'sauces', 'sausage', 'save', 'says', 'school', 'seasoned', 'seat', 'seats', 'seeing', 'sent', 'serving', 'share', 'shared', 'shopping', 'shot', 'showed', 'sign', 'simply', 'single', 'slice', 'slightly', 'smaller', 'solid', 'somewhere', 'son', 'sorry', 'sort', 'sour', 'south', 'speak', 'spend', 'spent', 'spice', 'spinach', 'split', 'spots', 'spring', 'stand', 'standard', 'state', 'stayed', 'strong', 'stuffed', 'suggest', 'summer', 'supposed', 'surprise', 'taco', 'takes', 'talk', 'talking', 'tampa', 'tastes', 'tasting', 'team', 'texture', 'thai', 'thick', 'thin', 'thinking', 'throughout', 'tiny', 'toast', 'tomato', 'tomatoes', 'tonight', 'toppings', 'total', 'touch', 'tour', 'traditional', 'treat', 'treated', 'true', 'tucson', 'tuna', 'turn', 'turned', 'typical', 'unless', 'update', 'using', 'usual', 'value', 'vegan', 'vegetables', 'vegetarian', 'veggie', 'veggies', 'view', 'visited', 'wall', 'waste', 'watch', 'weird', 'welcoming', 'whatever', 'window', 'woman', 'word', 'worked', 'works', 'worse', 'write', 'young', 'yum']\n"
     ]
    }
   ],
   "source": [
    "# Print terms with extreme document frequencies\n",
    "terms = vectorizer.get_feature_names_out()\n",
    "print('Nuber of features:', len(terms), '\\n')\n",
    "threshold = 400000\n",
    "print(\"Terms with high document frequency:\")\n",
    "print([terms[i] for i in np.where(doc_freq > threshold)[0]])\n",
    "print('-' * 120)\n",
    "threshold = 90000\n",
    "print(\"Terms with low document frequency:\")\n",
    "print([terms[i] for i in np.where(doc_freq < threshold)[0]])"
   ]
  },
  {
   "cell_type": "code",
   "execution_count": 26,
   "id": "9dec1cc2-3c50-4c5d-8d0a-a8cf8f2a587f",
   "metadata": {
    "scrolled": true
   },
   "outputs": [
    {
     "name": "stdout",
     "output_type": "stream",
     "text": [
      "Splitting the data into train and test sets...\n",
      "Building the Sequential model...\n"
     ]
    },
    {
     "name": "stderr",
     "output_type": "stream",
     "text": [
      "/Users/davidcastrejon/Documents/CSC180/HW/yelp/yelp_venv/lib/python3.10/site-packages/keras/src/layers/core/dense.py:88: UserWarning: Do not pass an `input_shape`/`input_dim` argument to a layer. When using Sequential models, prefer using an `Input(shape)` object as the first layer in the model instead.\n",
      "  super().__init__(activity_regularizer=activity_regularizer, **kwargs)\n"
     ]
    },
    {
     "name": "stdout",
     "output_type": "stream",
     "text": [
      "Training the model with early stopping and model checkpointing...\n",
      "Epoch 1/10\n",
      "\u001b[1m152837/152857\u001b[0m \u001b[32m━━━━━━━━━━━━━━━━━━━\u001b[0m\u001b[37m━\u001b[0m \u001b[1m0s\u001b[0m 1ms/step - loss: 0.8917\n",
      "Epoch 1: loss improved from inf to 0.77188, saving model to model_checkpoint.keras\n",
      "\u001b[1m152857/152857\u001b[0m \u001b[32m━━━━━━━━━━━━━━━━━━━━\u001b[0m\u001b[37m\u001b[0m \u001b[1m207s\u001b[0m 1ms/step - loss: 0.8916\n",
      "Epoch 2/10\n",
      "\u001b[1m152832/152857\u001b[0m \u001b[32m━━━━━━━━━━━━━━━━━━━\u001b[0m\u001b[37m━\u001b[0m \u001b[1m0s\u001b[0m 1ms/step - loss: 0.7143\n",
      "Epoch 2: loss improved from 0.77188 to 0.71407, saving model to model_checkpoint.keras\n",
      "\u001b[1m152857/152857\u001b[0m \u001b[32m━━━━━━━━━━━━━━━━━━━━\u001b[0m\u001b[37m\u001b[0m \u001b[1m201s\u001b[0m 1ms/step - loss: 0.7143\n",
      "Epoch 3/10\n",
      "\u001b[1m152823/152857\u001b[0m \u001b[32m━━━━━━━━━━━━━━━━━━━\u001b[0m\u001b[37m━\u001b[0m \u001b[1m0s\u001b[0m 1ms/step - loss: 0.7042\n",
      "Epoch 3: loss improved from 0.71407 to 0.70594, saving model to model_checkpoint.keras\n",
      "\u001b[1m152857/152857\u001b[0m \u001b[32m━━━━━━━━━━━━━━━━━━━━\u001b[0m\u001b[37m\u001b[0m \u001b[1m200s\u001b[0m 1ms/step - loss: 0.7042\n",
      "Epoch 4/10\n",
      "\u001b[1m152819/152857\u001b[0m \u001b[32m━━━━━━━━━━━━━━━━━━━\u001b[0m\u001b[37m━\u001b[0m \u001b[1m0s\u001b[0m 1ms/step - loss: 0.6986\n",
      "Epoch 4: loss improved from 0.70594 to 0.70106, saving model to model_checkpoint.keras\n",
      "\u001b[1m152857/152857\u001b[0m \u001b[32m━━━━━━━━━━━━━━━━━━━━\u001b[0m\u001b[37m\u001b[0m \u001b[1m195s\u001b[0m 1ms/step - loss: 0.6986\n",
      "Epoch 5/10\n",
      "\u001b[1m152849/152857\u001b[0m \u001b[32m━━━━━━━━━━━━━━━━━━━\u001b[0m\u001b[37m━\u001b[0m \u001b[1m0s\u001b[0m 1ms/step - loss: 0.6954\n",
      "Epoch 5: loss improved from 0.70106 to 0.69904, saving model to model_checkpoint.keras\n",
      "\u001b[1m152857/152857\u001b[0m \u001b[32m━━━━━━━━━━━━━━━━━━━━\u001b[0m\u001b[37m\u001b[0m \u001b[1m207s\u001b[0m 1ms/step - loss: 0.6954\n",
      "Epoch 6/10\n",
      "\u001b[1m152834/152857\u001b[0m \u001b[32m━━━━━━━━━━━━━━━━━━━\u001b[0m\u001b[37m━\u001b[0m \u001b[1m0s\u001b[0m 1ms/step - loss: 0.6948\n",
      "Epoch 6: loss improved from 0.69904 to 0.69780, saving model to model_checkpoint.keras\n",
      "\u001b[1m152857/152857\u001b[0m \u001b[32m━━━━━━━━━━━━━━━━━━━━\u001b[0m\u001b[37m\u001b[0m \u001b[1m202s\u001b[0m 1ms/step - loss: 0.6948\n",
      "Epoch 7/10\n",
      "\u001b[1m152839/152857\u001b[0m \u001b[32m━━━━━━━━━━━━━━━━━━━\u001b[0m\u001b[37m━\u001b[0m \u001b[1m0s\u001b[0m 1ms/step - loss: 0.6945\n",
      "Epoch 7: loss improved from 0.69780 to 0.69713, saving model to model_checkpoint.keras\n",
      "\u001b[1m152857/152857\u001b[0m \u001b[32m━━━━━━━━━━━━━━━━━━━━\u001b[0m\u001b[37m\u001b[0m \u001b[1m203s\u001b[0m 1ms/step - loss: 0.6945\n",
      "Epoch 8/10\n",
      "\u001b[1m152842/152857\u001b[0m \u001b[32m━━━━━━━━━━━━━━━━━━━\u001b[0m\u001b[37m━\u001b[0m \u001b[1m0s\u001b[0m 1ms/step - loss: 0.6936\n",
      "Epoch 8: loss improved from 0.69713 to 0.69615, saving model to model_checkpoint.keras\n",
      "\u001b[1m152857/152857\u001b[0m \u001b[32m━━━━━━━━━━━━━━━━━━━━\u001b[0m\u001b[37m\u001b[0m \u001b[1m201s\u001b[0m 1ms/step - loss: 0.6936\n",
      "Epoch 9/10\n",
      "\u001b[1m152825/152857\u001b[0m \u001b[32m━━━━━━━━━━━━━━━━━━━\u001b[0m\u001b[37m━\u001b[0m \u001b[1m0s\u001b[0m 1ms/step - loss: 0.6948\n",
      "Epoch 9: loss did not improve from 0.69615\n",
      "\u001b[1m152857/152857\u001b[0m \u001b[32m━━━━━━━━━━━━━━━━━━━━\u001b[0m\u001b[37m\u001b[0m \u001b[1m195s\u001b[0m 1ms/step - loss: 0.6948\n",
      "Epoch 10/10\n",
      "\u001b[1m152817/152857\u001b[0m \u001b[32m━━━━━━━━━━━━━━━━━━━\u001b[0m\u001b[37m━\u001b[0m \u001b[1m0s\u001b[0m 1ms/step - loss: 0.6926\n",
      "Epoch 10: loss improved from 0.69615 to 0.69592, saving model to model_checkpoint.keras\n",
      "\u001b[1m152857/152857\u001b[0m \u001b[32m━━━━━━━━━━━━━━━━━━━━\u001b[0m\u001b[37m\u001b[0m \u001b[1m196s\u001b[0m 1ms/step - loss: 0.6926\n",
      "Restoring model weights from the end of the best epoch: 10.\n"
     ]
    }
   ],
   "source": [
    "# Splitting the data into train and test sets\n",
    "print(\"Splitting the data into train and test sets...\")\n",
    "X_train, X_test, y_train, y_test = train_test_split(X, stars, test_size=0.2, random_state=42)\n",
    "\n",
    "print(\"Building the Sequential model...\")\n",
    "model = Sequential([\n",
    "    Dense(128, activation='relu', input_shape=(X_train.shape[1],)),\n",
    "    Dropout(0.5),\n",
    "    Dense(64, activation='relu'),\n",
    "    Dropout(0.5),\n",
    "    Dense(1)                      # Output layer                        \n",
    "])\n",
    "\n",
    "# Compile the model\n",
    "model.compile(optimizer='adam', loss='mse')\n",
    "\n",
    "# Define callbacks for early stopping and model checkpointing\n",
    "early_stopping = EarlyStopping(monitor='loss', patience=2, verbose=1, restore_best_weights=True)\n",
    "checkpoint_path = \"model_checkpoint.keras\"\n",
    "\n",
    "model_checkpoint = ModelCheckpoint(checkpoint_path, monitor='loss', verbose=1, save_best_only=True, mode='min')\n",
    "# Convert NumPy arrays to TensorFlow tensors\n",
    "X_train_tf = tf.convert_to_tensor(X_train, dtype=tf.float32)\n",
    "y_train_tf = tf.convert_to_tensor(y_train, dtype=tf.float32)\n",
    "\n",
    "# Train the model with early stopping and model checkpointing callbacks\n",
    "print(\"Training the model with early stopping and model checkpointing...\")\n",
    "history = model.fit(X_train_tf, y_train_tf, epochs=10, batch_size=32,\n",
    "                    callbacks=[early_stopping, model_checkpoint], verbose=1)"
   ]
  },
  {
   "cell_type": "code",
   "execution_count": 27,
   "id": "46d5533d-58f4-4f44-942a-d2de3a85c44c",
   "metadata": {},
   "outputs": [],
   "source": [
    "# Load weights from best model\n",
    "model.load_weights('model_checkpoint.keras')"
   ]
  },
  {
   "cell_type": "code",
   "execution_count": 29,
   "id": "df58d13d-0843-4479-92e5-0bb462d79bd9",
   "metadata": {},
   "outputs": [
    {
     "name": "stdout",
     "output_type": "stream",
     "text": [
      "Evaluating the model...\n",
      "\u001b[1m38215/38215\u001b[0m \u001b[32m━━━━━━━━━━━━━━━━━━━━\u001b[0m\u001b[37m\u001b[0m \u001b[1m12s\u001b[0m 317us/step - loss: 0.6215\n",
      "Mean Squared Error: 0.6221225261688232\n",
      "Predicting star ratings for test data...\n",
      "\u001b[1m38215/38215\u001b[0m \u001b[32m━━━━━━━━━━━━━━━━━━━━\u001b[0m\u001b[37m\u001b[0m \u001b[1m15s\u001b[0m 393us/step\n",
      "Regression Report:\n",
      "Mean Absolute Error (MAE): 0.58\n",
      "Mean Squared Error (MSE): 0.62\n",
      "Root Mean Squared Error (RMSE): 0.79\n",
      "R-squared (R2): 0.70\n",
      " \n",
      "Review Text:\n",
      "It's White Castle, anyone who knows me know's i have a strange fetish with this place. and this location feels like any other White Castle i've been too. Quick and good service, decently clean location and just a couple blocks down from the convention center!\n",
      "Actual Rating: 5.0\n",
      "Predicted Rating: 4.71\n",
      "\n",
      "Review Text:\n",
      "Even the best restaurants would do well to listen to their steady customers. And that's why I'm writing this. There is a problem with the pricing of Chef Ma's otherwise great hot and sour soup. The market price for hot and sour soup for two is three-four dollars. At Chef Ma's, it's $5.50. Yes there's enough soup for three or four people, but I don't want to pay extra for soup I don't want. I've argued this with the older woman who serves as the greeter and as a result I often choose to visit the competition since hot & sour soup is always a staple when my wife and I go out for Chinese. Chef Ma is a delight. His cooking is superb. But I am not going to pay for something I don't want.\n",
      "Actual Rating: 5.0\n",
      "Predicted Rating: 4.82\n",
      "\n",
      "Review Text:\n",
      "I found the place because I was craving for bakery stuff and coffee.  The place is clean, friendly atmosphere and warm.  You just try the tamales!  It's no tamales that I've ever had!  It's huge and had big chucks of pork belly and chicken.  Most places have ground up stuff of who knows what it is.  I would come here to work and drink coffee and snack.  The sausage in a blanket is a must have, chorizopan.  The price is good. $1.50 for an expression.  $2 for treats.  It deserves 4 gems.  Cheap, good, and nice to have.\n",
      "Actual Rating: 2.0\n",
      "Predicted Rating: 1.67\n",
      "\n",
      "Review Text:\n",
      "Our favorite restaurant, family owned and the food is delicious\n",
      "Actual Rating: 5.0\n",
      "Predicted Rating: 4.77\n",
      "\n",
      "Review Text:\n",
      "Good service.... Clean....friendly.....Vincent was a great server ....average prices....good stop....thank you...\n",
      "Actual Rating: 5.0\n",
      "Predicted Rating: 4.87\n",
      "\n"
     ]
    },
    {
     "name": "stderr",
     "output_type": "stream",
     "text": [
      "/Users/davidcastrejon/Documents/CSC180/HW/yelp/yelp_venv/lib/python3.10/site-packages/sklearn/metrics/_regression.py:483: FutureWarning: 'squared' is deprecated in version 1.4 and will be removed in 1.6. To calculate the root mean squared error, use the function'root_mean_squared_error'.\n",
      "  warnings.warn(\n"
     ]
    }
   ],
   "source": [
    "from sklearn.metrics import mean_absolute_error, mean_squared_error, r2_score\n",
    "import random\n",
    "\n",
    "# Convert NumPy arrays to TensorFlow tensors\n",
    "X_test_tf = tf.convert_to_tensor(X_test, dtype=tf.float32)\n",
    "y_test_tf = tf.convert_to_tensor(y_test, dtype=tf.float32)\n",
    "\n",
    "# Evaluate the model\n",
    "print(\"Evaluating the model...\")\n",
    "mse = model.evaluate(X_test_tf, y_test_tf, verbose=1)\n",
    "print(\"Mean Squared Error:\", mse)\n",
    "\n",
    "# Predict star ratings for test data\n",
    "print(\"Predicting star ratings for test data...\")\n",
    "predictions = model.predict(X_test_tf)  # Obtain predictions\n",
    "\n",
    "# Calculate regression metrics\n",
    "mae = mean_absolute_error(y_test_tf, predictions)\n",
    "mse = mean_squared_error(y_test_tf, predictions)\n",
    "rmse = mean_squared_error(y_test_tf, predictions, squared=False)  # Compute RMSE from MSE\n",
    "r2 = r2_score(y_test_tf, predictions)\n",
    "\n",
    "# Print regression report\n",
    "print(\"Regression Report:\")\n",
    "print(f\"Mean Absolute Error (MAE): {mae:.2f}\")\n",
    "print(f\"Mean Squared Error (MSE): {mse:.2f}\")\n",
    "print(f\"Root Mean Squared Error (RMSE): {rmse:.2f}\")\n",
    "print(f\"R-squared (R2): {r2:.2f}\")\n",
    "\n",
    "# Select random examples from the test set\n",
    "num_examples = 5\n",
    "random_indices = random.sample(range(len(X_test)), num_examples)\n",
    "\n",
    "print(' ')\n",
    "\n",
    "# Iterate over selected examples\n",
    "for i in random_indices:\n",
    "    # Get the text review, actual rating, and predicted rating for the i-th example\n",
    "    review_text = texts[i]\n",
    "    actual_rating = y_test[i]\n",
    "    predicted_rating = predictions[i][0]\n",
    "    \n",
    "    # Print the review text, actual rating, and predicted rating\n",
    "    print(\"Review Text:\")\n",
    "    print(review_text)\n",
    "    print(f\"Actual Rating: {actual_rating}\")\n",
    "    print(f\"Predicted Rating: {predicted_rating:.2f}\\n\")\n"
   ]
  },
  {
   "cell_type": "code",
   "execution_count": null,
   "id": "d347fef4-09bf-484e-8a10-e9d1a1db1324",
   "metadata": {},
   "outputs": [],
   "source": []
  }
 ],
 "metadata": {
  "kernelspec": {
   "display_name": "Python 3 (ipykernel)",
   "language": "python",
   "name": "python3"
  },
  "language_info": {
   "codemirror_mode": {
    "name": "ipython",
    "version": 3
   },
   "file_extension": ".py",
   "mimetype": "text/x-python",
   "name": "python",
   "nbconvert_exporter": "python",
   "pygments_lexer": "ipython3",
   "version": "3.10.9"
  }
 },
 "nbformat": 4,
 "nbformat_minor": 5
}
