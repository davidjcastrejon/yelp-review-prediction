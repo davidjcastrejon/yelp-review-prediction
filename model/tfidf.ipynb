{
 "cells": [
  {
   "cell_type": "code",
   "execution_count": 18,
   "id": "44786366-cff5-4dac-bd53-aac3647aeb65",
   "metadata": {},
   "outputs": [
    {
     "name": "stdout",
     "output_type": "stream",
     "text": [
      "Loading data...\n",
      "Extracting text reviews and star ratings...\n",
      "Performing TF-IDF Vectorization...\n",
      "Finished TF-IDF Vectorization!\n"
     ]
    }
   ],
   "source": [
    "import json\n",
    "import numpy as np\n",
    "import matplotlib.pyplot as plt\n",
    "from sklearn.feature_extraction.text import TfidfVectorizer\n",
    "from sklearn.model_selection import train_test_split\n",
    "import tensorflow as tf\n",
    "from tensorflow.keras.models import Sequential\n",
    "from tensorflow.keras.layers import Dense, Dropout\n",
    "from tensorflow.keras.callbacks import EarlyStopping, ModelCheckpoint\n",
    "\n",
    "filtered_review_path = '/Users/davidcastrejon/Documents/CSC180/hw/yelp/filtered_yelp_academic_dataset_review.json'\n",
    "\n",
    "# Load data from the reviews JSON file\n",
    "print(\"Loading data...\")\n",
    "with open(filtered_review_path, 'r') as f:\n",
    "    reviews_data = json.load(f)\n",
    "    \n",
    "# Extract text reviews and star ratings\n",
    "print(\"Extracting text reviews and star ratings...\")\n",
    "texts = [review['text'] for review in reviews_data]\n",
    "stars = [review['stars'] for review in reviews_data]\n",
    "\n",
    "# TF-IDF Vectorization\n",
    "print(\"Performing TF-IDF Vectorization...\")\n",
    "vectorizer = TfidfVectorizer(min_df=0.05, max_df=0.3)  \n",
    "X = vectorizer.fit_transform(texts).toarray()\n",
    "print(\"Finished TF-IDF Vectorization!\")"
   ]
  },
  {
   "cell_type": "code",
   "execution_count": 19,
   "id": "6b8ea1e6-87fa-4a7b-90f4-e99634a26704",
   "metadata": {},
   "outputs": [
    {
     "data": {
      "image/png": "[encoded data removed]",
      "text/plain": [
       "<Figure size 640x480 with 1 Axes>"
      ]
     },
     "metadata": {},
     "output_type": "display_data"
    }
   ],
   "source": [
    "# Calculate document frequencies\n",
    "doc_freq = np.sum(X > 0, axis=0)\n",
    "\n",
    "# Plot histogram of document frequencies\n",
    "plt.hist(doc_freq, bins=50)\n",
    "plt.title('Histogram of Document Frequencies')\n",
    "plt.xlabel('Document Frequency')\n",
    "plt.ylabel('Number of Terms')\n",
    "plt.show()"
   ]
  },
  {
   "cell_type": "code",
   "execution_count": 20,
   "id": "46f225c0-abff-41f4-a138-c3f61760210f",
   "metadata": {},
   "outputs": [
    {
     "name": "stdout",
     "output_type": "stream",
     "text": [
      "Nuber of features: 202 \n",
      "\n",
      "Terms with high document frequency:\n",
      "['10', 'about', 'after', 'again', 'all', 'also', 'always', 'am', 'amazing', 'an', 'another', 'any', 'area', 'around', 'as', 'asked', 'atmosphere', 'away', 'awesome', 'back', 'bad', 'bar', 'because', 'been', 'before', 'being', 'best', 'better', 'big', 'bit', 'both', 'by', 'came', 'can', 'cheese', 'chicken', 'clean', 'come', 'could', 'customer', 'day', 'definitely', 'delicious', 'did', 'didn', 'different', 'dinner', 'do', 'don', 'down', 'drink', 'drinks', 'eat', 'enough', 'even', 'ever', 'every', 'everything', 'excellent', 'experience', 'favorite', 'feel', 'few', 'find', 'first', 'flavor', 'fresh', 'friendly', 'from', 'get', 'give', 'go', 'going', 'got', 'happy', 'has', 'he', 'her', 'here', 'his', 'home', 'hot', 'how', 'if', 'into', 'just', 'know', 'last', 'like', 'little', 'll', 'location', 'long', 'looking', 'lot', 'love', 'lunch', 'made', 'make', 'many', 'me', 'meal', 'menu', 'minutes', 'more', 'most', 'much', 'need', 'never', 'new', 'next', 'nice', 'night', 'no', 'nothing', 'now', 'off', 'one', 'only', 'or', 'order', 'ordered', 'other', 'our', 'out', 'over', 'people', 'perfect', 'pretty', 'price', 'prices', 'quality', 're', 'really', 'recommend', 'restaurant', 'right', 'said', 'salad', 'sauce', 'say', 'see', 'server', 'service', 'she', 'should', 'side', 'since', 'small', 'some', 'something', 'spot', 'staff', 'stars', 'still', 'super', 'sure', 'table', 'take', 'taste', 'tasty', 'than', 'their', 'them', 'then', 'there', 'thing', 'things', 'think', 'though', 'time', 'times', 'told', 'too', 'took', 'top', 'tried', 'try', 'two', 'up', 'us', 've', 'very', 'visit', 'wait', 'want', 'wanted', 'wasn', 'way', 'well', 'went', 'what', 'when', 'where', 'which', 'while', 'who', 'will', 'work', 'worth', 'would', 'your']\n",
      "Terms with low document frequency:\n",
      "[]\n"
     ]
    }
   ],
   "source": [
    "# Print terms with extreme document frequencies\n",
    "terms = vectorizer.get_feature_names_out()\n",
    "print('Nuber of features:', len(terms), '\\n')\n",
    "threshold = 1000\n",
    "print(\"Terms with high document frequency:\")\n",
    "print([terms[i] for i in np.where(doc_freq > threshold)[0]])\n",
    "threshold = 0\n",
    "print(\"Terms with low document frequency:\")\n",
    "print([terms[i] for i in np.where(doc_freq < threshold)[0]])"
   ]
  },
  {
   "cell_type": "code",
   "execution_count": 24,
   "id": "1b77c435-5079-497d-94c8-11c862983001",
   "metadata": {},
   "outputs": [
    {
     "name": "stdout",
     "output_type": "stream",
     "text": [
      "Splitting the data into train and test sets...\n",
      "Building the Sequential model...\n",
      "Training the model with early stopping and model checkpointing...\n",
      "Epoch 1/2\n",
      "\u001b[1m152823/152857\u001b[0m \u001b[32m━━━━━━━━━━━━━━━━━━━\u001b[0m\u001b[37m━\u001b[0m \u001b[1m0s\u001b[0m 559us/step - loss: 1.1899\n",
      "Epoch 1: loss improved from inf to 1.06547, saving model to model_checkpoint.keras\n",
      "\u001b[1m152857/152857\u001b[0m \u001b[32m━━━━━━━━━━━━━━━━━━━━\u001b[0m\u001b[37m\u001b[0m \u001b[1m86s\u001b[0m 559us/step - loss: 1.1899\n",
      "Epoch 2/2\n",
      "\u001b[1m152783/152857\u001b[0m \u001b[32m━━━━━━━━━━━━━━━━━━━\u001b[0m\u001b[37m━\u001b[0m \u001b[1m0s\u001b[0m 542us/step - loss: 1.0112\n",
      "Epoch 2: loss improved from 1.06547 to 1.01166, saving model to model_checkpoint.keras\n",
      "\u001b[1m152857/152857\u001b[0m \u001b[32m━━━━━━━━━━━━━━━━━━━━\u001b[0m\u001b[37m\u001b[0m \u001b[1m83s\u001b[0m 542us/step - loss: 1.0112\n",
      "Restoring model weights from the end of the best epoch: 2.\n"
     ]
    }
   ],
   "source": [
    "# Splitting the data into train and test sets\n",
    "print(\"Splitting the data into train and test sets...\")\n",
    "X_train, X_test, y_train, y_test = train_test_split(X, stars, test_size=0.2, random_state=42)\n",
    "\n",
    "# Build the Sequential model\n",
    "print(\"Building the Sequential model...\")\n",
    "model = Sequential([\n",
    "    Dense(128, activation='relu', input_shape=(X_train.shape[1],)),\n",
    "    Dropout(0.5),\n",
    "    Dense(64, activation='relu'),\n",
    "    Dropout(0.5),\n",
    "    Dense(1)\n",
    "])\n",
    "\n",
    "# Compile the model\n",
    "model.compile(optimizer='adam', loss='mse')\n",
    "\n",
    "# Define callbacks for early stopping and model checkpointing\n",
    "early_stopping = EarlyStopping(monitor='loss', patience=3, verbose=1, restore_best_weights=True)\n",
    "checkpoint_path = \"model_checkpoint.keras\"\n",
    "\n",
    "model_checkpoint = ModelCheckpoint(checkpoint_path, monitor='loss', verbose=1, save_best_only=True, mode='min')\n",
    "# Convert NumPy arrays to TensorFlow tensors\n",
    "X_train_tf = tf.convert_to_tensor(X_train, dtype=tf.float32)\n",
    "y_train_tf = tf.convert_to_tensor(y_train, dtype=tf.float32)\n",
    "\n",
    "# Train the model with early stopping and model checkpointing callbacks\n",
    "print(\"Training the model with early stopping and model checkpointing...\")\n",
    "history = model.fit(X_train_tf, y_train_tf, epochs=2, batch_size=32,\n",
    "                    callbacks=[early_stopping, model_checkpoint], verbose=1)"
   ]
  },
  {
   "cell_type": "code",
   "execution_count": null,
   "id": "46d5533d-58f4-4f44-942a-d2de3a85c44c",
   "metadata": {},
   "outputs": [],
   "source": [
    "model.load_weights('model_checkpoint.keras') # load weights from best model"
   ]
  },
  {
   "cell_type": "code",
   "execution_count": 31,
   "id": "df58d13d-0843-4479-92e5-0bb462d79bd9",
   "metadata": {},
   "outputs": [
    {
     "name": "stdout",
     "output_type": "stream",
     "text": [
      "Evaluating the model...\n",
      "\u001b[1m38215/38215\u001b[0m \u001b[32m━━━━━━━━━━━━━━━━━━━━\u001b[0m\u001b[37m\u001b[0m \u001b[1m10s\u001b[0m 266us/step - loss: 0.9309\n",
      "Mean Squared Error: 0.9307006597518921\n",
      "Predicting star ratings for test data...\n",
      "\u001b[1m38215/38215\u001b[0m \u001b[32m━━━━━━━━━━━━━━━━━━━━\u001b[0m\u001b[37m\u001b[0m \u001b[1m11s\u001b[0m 277us/step\n",
      "Regression Report:\n",
      "Mean Absolute Error (MAE): 0.73\n",
      "Mean Squared Error (MSE): 0.93\n",
      "Root Mean Squared Error (RMSE): 0.96\n",
      "R-squared (R2): 0.55\n"
     ]
    },
    {
     "name": "stderr",
     "output_type": "stream",
     "text": [
      "/Users/davidcastrejon/Documents/CSC180/HW/yelp/yelp_venv/lib/python3.10/site-packages/sklearn/metrics/_regression.py:483: FutureWarning: 'squared' is deprecated in version 1.4 and will be removed in 1.6. To calculate the root mean squared error, use the function'root_mean_squared_error'.\n",
      "  warnings.warn(\n"
     ]
    }
   ],
   "source": [
    "from sklearn.metrics import mean_absolute_error, mean_squared_error, r2_score\n",
    "\n",
    "# Convert NumPy arrays to TensorFlow tensors\n",
    "X_test_tf = tf.convert_to_tensor(X_test, dtype=tf.float32)\n",
    "y_test_tf = tf.convert_to_tensor(y_test, dtype=tf.float32)\n",
    "\n",
    "# Evaluate the model\n",
    "print(\"Evaluating the model...\")\n",
    "mse = model.evaluate(X_test_tf, y_test_tf, verbose=1)\n",
    "print(\"Mean Squared Error:\", mse)\n",
    "\n",
    "# Predict star ratings for test data\n",
    "print(\"Predicting star ratings for test data...\")\n",
    "predictions = model.predict(X_test_tf)  # Obtain predictions\n",
    "\n",
    "# Calculate regression metrics\n",
    "mae = mean_absolute_error(y_test_tf, predictions)\n",
    "mse = mean_squared_error(y_test_tf, predictions)\n",
    "rmse = mean_squared_error(y_test_tf, predictions, squared=False)  # Compute RMSE from MSE\n",
    "r2 = r2_score(y_test_tf, predictions)\n",
    "\n",
    "# Print regression report\n",
    "print(\"Regression Report:\")\n",
    "print(f\"Mean Absolute Error (MAE): {mae:.2f}\")\n",
    "print(f\"Mean Squared Error (MSE): {mse:.2f}\")\n",
    "print(f\"Root Mean Squared Error (RMSE): {rmse:.2f}\")\n",
    "print(f\"R-squared (R2): {r2:.2f}\")\n"
   ]
  },
  {
   "cell_type": "code",
   "execution_count": null,
   "id": "d347fef4-09bf-484e-8a10-e9d1a1db1324",
   "metadata": {},
   "outputs": [],
   "source": []
  }
 ],
 "metadata": {
  "kernelspec": {
   "display_name": "Python 3 (ipykernel)",
   "language": "python",
   "name": "python3"
  },
  "language_info": {
   "codemirror_mode": {
    "name": "ipython",
    "version": 3
   },
   "file_extension": ".py",
   "mimetype": "text/x-python",
   "name": "python",
   "nbconvert_exporter": "python",
   "pygments_lexer": "ipython3",
   "version": "3.10.9"
  }
 },
 "nbformat": 4,
 "nbformat_minor": 5
}
