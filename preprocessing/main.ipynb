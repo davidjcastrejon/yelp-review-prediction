{
 "cells": [
  {
   "cell_type": "code",
   "execution_count": 55,
   "id": "57d7f0ac-620d-4836-802b-2bb20ff58ca1",
   "metadata": {},
   "outputs": [],
   "source": [
    "import tensorflow as tf"
   ]
  },
  {
   "cell_type": "code",
   "execution_count": 56,
   "id": "5afcdfda-2350-4381-99fa-2a3c90b7a719",
   "metadata": {},
   "outputs": [
    {
     "data": {
      "text/plain": [
       "'2.16.1'"
      ]
     },
     "execution_count": 56,
     "metadata": {},
     "output_type": "execute_result"
    }
   ],
   "source": [
    "tf.__version__"
   ]
  },
  {
   "cell_type": "code",
   "execution_count": 59,
   "id": "38339c87-d9c1-4d72-affb-aa1530b459c6",
   "metadata": {},
   "outputs": [
    {
     "name": "stdout",
     "output_type": "stream",
     "text": [
      "Length of unfiltered business data: 150346 lines\n",
      "Length of filtered business data: 61919 lines\n",
      "Number of business id in business data: 61919 lines\n",
      "Length of filtered path data: 60448 lines\n",
      "Processed /Users/davidcastrejon/Documents/CSC180/hw/yelp/yelp_dataset/yelp_academic_dataset_checkin.json\n",
      "Length of filtered path data: 799452 lines\n",
      "Processed /Users/davidcastrejon/Documents/CSC180/hw/yelp/yelp_dataset/yelp_academic_dataset_tip.json\n",
      "Finished!\n"
     ]
    }
   ],
   "source": [
    "import os\n",
    "import json\n",
    "\n",
    "# Define the path to the JSON file\n",
    "business_path = '/Users/davidcastrejon/Documents/CSC180/hw/yelp/yelp_dataset/yelp_academic_dataset_business.json'\n",
    "checkin_path = '/Users/davidcastrejon/Documents/CSC180/hw/yelp/yelp_dataset/yelp_academic_dataset_checkin.json'\n",
    "review_path = '/Users/davidcastrejon/Documents/CSC180/hw/yelp/yelp_dataset/yelp_academic_dataset_review.json'\n",
    "tip_path = '/Users/davidcastrejon/Documents/CSC180/hw/yelp/yelp_dataset/yelp_academic_dataset_tip.json'\n",
    "user_path = '/Users/davidcastrejon/Documents/CSC180/hw/yelp/yelp_dataset/yelp_academic_dataset_user.json'\n",
    "\n",
    "paths = [review_path, checkin_path, tip_path]\n",
    "\n",
    "# Open the file and read it line by line\n",
    "data = []\n",
    "with open(business_path, 'r') as f:\n",
    "    for line in f:\n",
    "        # Parse each JSON object and append it to the data list\n",
    "        entry = json.loads(line)\n",
    "        data.append(entry)\n",
    "print(f'Length of unfiltered business data: {len(data)} lines')\n",
    "\n",
    "# Define a function to filter entries with less than 20 total reviews\n",
    "def filter_reviews(entry):\n",
    "    return entry['review_count'] >= 20\n",
    "\n",
    "# Filter the entries\n",
    "filtered_data = list(filter(filter_reviews, data))\n",
    "\n",
    "# Specify the path for the new JSON file\n",
    "output_file = 'filtered_yelp_academic_dataset_business.json'\n",
    "\n",
    "# Save the new dataset to a JSON file\n",
    "with open(output_file, 'w') as f:\n",
    "    json.dump(filtered_data, f, indent=4)\n",
    "\n",
    "# Read the entire file and parse it as a JSON array\n",
    "with open(output_file, 'r') as f:\n",
    "    data = json.load(f)\n",
    "\n",
    "# Now, the data list contains all the parsed JSON objects from the file\n",
    "print(f'Length of filtered business data: {len(data)} lines')\n",
    "\n",
    "# Extract business IDs from the filtered data\n",
    "filtered_business_ids = [entry['business_id'] for entry in data]\n",
    "print(f'Number of business id in business data: {len(data)} lines')\n",
    "\n",
    "# Define a function to filter entries based on business IDs\n",
    "def filter_entries(entry):\n",
    "    return entry['business_id'] in filtered_business_ids\n",
    "\n",
    "# Iterate through each path\n",
    "for path in paths:\n",
    "    # Define the output file name for the filtered data\n",
    "    output_file = f'filtered_{os.path.basename(path)[:-5]}.json'\n",
    "\n",
    "    # Open the file and read it line by line\n",
    "    filtered_data = []\n",
    "    with open(path, 'r') as f:\n",
    "        for line in f:\n",
    "            # Parse each JSON object and filter entries based on business IDs\n",
    "            entry = json.loads(line)\n",
    "            if filter_entries(entry):\n",
    "                filtered_data.append(entry)\n",
    "\n",
    "    # Save the filtered dataset to a JSON file\n",
    "    with open(output_file, 'w') as f:\n",
    "        json.dump(filtered_data, f, indent=4)\n",
    "    print(f'Length of filtered path data: {len(filtered_data)} lines')\n",
    "    print(f'Processed {path}')\n",
    "print('Finished!')\n"
   ]
  },
  {
   "cell_type": "code",
   "execution_count": null,
   "id": "64a5d39e-7969-47df-be8f-23b1dc751ff5",
   "metadata": {},
   "outputs": [],
   "source": []
  },
  {
   "cell_type": "code",
   "execution_count": null,
   "id": "89d5a2b6-46d8-4ffb-8a4d-732921a70f78",
   "metadata": {},
   "outputs": [],
   "source": []
  },
  {
   "cell_type": "code",
   "execution_count": null,
   "id": "407aa35a-271a-42b8-8ca6-8ef990983b67",
   "metadata": {},
   "outputs": [],
   "source": []
  }
 ],
 "metadata": {
  "kernelspec": {
   "display_name": "Python 3 (ipykernel)",
   "language": "python",
   "name": "python3"
  },
  "language_info": {
   "codemirror_mode": {
    "name": "ipython",
    "version": 3
   },
   "file_extension": ".py",
   "mimetype": "text/x-python",
   "name": "python",
   "nbconvert_exporter": "python",
   "pygments_lexer": "ipython3",
   "version": "3.10.9"
  }
 },
 "nbformat": 4,
 "nbformat_minor": 5
}
